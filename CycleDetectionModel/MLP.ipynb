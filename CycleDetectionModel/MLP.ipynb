{
 "cells": [
  {
   "cell_type": "code",
   "execution_count": 1,
   "metadata": {},
   "outputs": [
    {
     "name": "stdout",
     "output_type": "stream",
     "text": [
      "Successfully connected; Factorid web services\n",
      "Successfully connected; Factoroid development\n"
     ]
    }
   ],
   "source": [
    "import pandas as pd\n",
    "import numpy as np\n",
    "import sklearn \n",
    "import matplotlib.pyplot as plt\n",
    "import os\n",
    "import factoroid as fr\n",
    "import sys\n",
    "import torch\n",
    "import shutil\n",
    "import json\n",
    "import datetime as dt\n",
    "from datetime import timedelta\n",
    "from scipy import interpolate\n",
    "WebSQL = fr.connector.MySQLDB('db-01')\n",
    "DevSQL = fr.connector.MySQLDB('db-dev')\n",
    "import pickle"
   ]
  },
  {
   "cell_type": "code",
   "execution_count": 2,
   "metadata": {},
   "outputs": [],
   "source": [
    "query_cycle = '''\n",
    "SELECT\n",
    "    *\n",
    "FROM \n",
    "    yk_operating_cycle\n",
    "WHERE\n",
    "    equipment_name in ('ECOSPEED F1040 #2')\n",
    "\n",
    "'''\n",
    "pdf_cycle = pd.DataFrame(WebSQL.query(query_cycle))"
   ]
  },
  {
   "cell_type": "code",
   "execution_count": 4,
   "metadata": {},
   "outputs": [],
   "source": [
    "with open('./parameter/equipment_properties.json', 'r') as param_file:\n",
    "    parameters = json.load(param_file) \n",
    "machine_mac_list = []\n",
    "for machine in parameters.keys():\n",
    "    if machine != 'door_sensor_list':\n",
    "        machine_mac_list.append([machine, parameters[machine]['mac']])\n",
    "pdf_mac = pd.DataFrame(machine_mac_list, columns=[\"machine\", \"mac\"])"
   ]
  },
  {
   "cell_type": "code",
   "execution_count": 5,
   "metadata": {},
   "outputs": [],
   "source": [
    "pdf_result = pd.merge(pdf_cycle, pdf_mac, how='inner', left_on='equipment_name', right_on='machine')"
   ]
  },
  {
   "cell_type": "code",
   "execution_count": 8,
   "metadata": {},
   "outputs": [],
   "source": [
    "def normalizer(df, length):\n",
    "    df['timestamp'] = df['timestamp'] - df['timestamp'].min()\n",
    "    df['timestamp'] = df.apply(lambda x : x['timestamp'].total_seconds(), axis=1)\n",
    "    df['timestamp'] = df['timestamp']/df['timestamp'].max()\n",
    "    df['value'] = (df['value'] - df['value'].mean()) / df['value'].std()\n",
    "    f = interpolate.interp1d(df['timestamp'], df['value'], kind='linear')\n",
    "    x = np.linspace(0, 1, 1001)\n",
    "    y = f(x)\n",
    "    return y.T"
   ]
  },
  {
   "cell_type": "code",
   "execution_count": 9,
   "metadata": {},
   "outputs": [],
   "source": [
    "length = 1001\n",
    "samples = {}\n",
    "dataset = pd.DataFrame(columns = [i for i in range(length)])\n",
    "for i, row in pdf_result[['id', 'mac', 'start_time', 'stop_time', 'gop']].iterrows():\n",
    "    if row.mac not in samples:\n",
    "        samples[row.mac] = []\n",
    "    period_ = fr.utils.Period([row.start_time.strftime('%Y-%m-%d %H:%M:%S'), row.stop_time.strftime('%Y-%m-%d %H:%M:%S')])\n",
    "    data = fr.processor.preprocess(WebSQL.get_data(mac=row.mac, period=period_.utc))[['timestamp', 'value']]\n",
    "    y = normalizer(data, length)\n",
    "    row_out = [row.id] + list(y) + [row.gop]\n",
    "    samples[row.mac].append(row_out)"
   ]
  },
  {
   "cell_type": "code",
   "execution_count": 10,
   "metadata": {},
   "outputs": [],
   "source": [
    "test_data = pd.DataFrame(samples['D72B9E3889F1'], columns=['id'] + ['x%d'%(i) for i in range(length)] + ['label'])\n",
    "X = test_data.drop(columns=['id','label'])\n",
    "y = test_data['label']"
   ]
  },
  {
   "cell_type": "code",
   "execution_count": 13,
   "metadata": {},
   "outputs": [],
   "source": [
    "# test_data2 = pd.concat([test_data.drop(columns=['label']), pd.get_dummies(test_data['label'])], axis=1)\n",
    "# X = test_data2.drop(columns=['id', '10', '20', '30'])\n",
    "# y = test_data2[['10', '20', '30']]"
   ]
  },
  {
   "cell_type": "code",
   "execution_count": 14,
   "metadata": {},
   "outputs": [],
   "source": [
    "from sklearn.neural_network import MLPClassifier\n",
    "from sklearn.metrics import accuracy_score\n",
    "from sklearn.model_selection import train_test_split"
   ]
  },
  {
   "cell_type": "code",
   "execution_count": 15,
   "metadata": {},
   "outputs": [],
   "source": [
    "X_train, X_test, y_train, y_test = train_test_split(X, y, test_size=0.25)"
   ]
  },
  {
   "cell_type": "code",
   "execution_count": 16,
   "metadata": {},
   "outputs": [],
   "source": [
    "clf = MLPClassifier(hidden_layer_sizes=(150,100,50), max_iter=300, activation = 'relu',solver='adam')\n",
    "clf.fit(X_train, y_train)\n",
    "y_pred = clf.predict(X_test)"
   ]
  },
  {
   "cell_type": "code",
   "execution_count": 17,
   "metadata": {},
   "outputs": [
    {
     "data": {
      "text/plain": [
       "0.9473684210526315"
      ]
     },
     "execution_count": 17,
     "metadata": {},
     "output_type": "execute_result"
    }
   ],
   "source": [
    "accuracy_score(y_test, y_pred)"
   ]
  },
  {
   "cell_type": "code",
   "execution_count": null,
   "metadata": {},
   "outputs": [],
   "source": []
  }
 ],
 "metadata": {
  "interpreter": {
   "hash": "43c30b35ffe3e162ace960efdd1be32235167060aabad4cef585db974c35fc9c"
  },
  "kernelspec": {
   "display_name": "Factoroid",
   "language": "python",
   "name": "python3"
  },
  "language_info": {
   "codemirror_mode": {
    "name": "ipython",
    "version": 3
   },
   "file_extension": ".py",
   "mimetype": "text/x-python",
   "name": "python",
   "nbconvert_exporter": "python",
   "pygments_lexer": "ipython3",
   "version": "3.8.8"
  }
 },
 "nbformat": 4,
 "nbformat_minor": 4
}
